{
 "cells": [
  {
   "cell_type": "code",
   "execution_count": 3,
   "id": "d81e0a1b",
   "metadata": {},
   "outputs": [],
   "source": [
    "from keras.preprocessing import image\n",
    "from keras.preprocessing.image import ImageDataGenerator"
   ]
  },
  {
   "cell_type": "code",
   "execution_count": 9,
   "id": "192100b3",
   "metadata": {},
   "outputs": [
    {
     "name": "stdout",
     "output_type": "stream",
     "text": [
      "Found 2000 images belonging to 2 classes.\n",
      "Found 400 images belonging to 2 classes.\n"
     ]
    }
   ],
   "source": [
    "batch_size=16\n",
    "\n",
    "#training augmentation configuration\n",
    "train_datagen=ImageDataGenerator(\n",
    "        rescale=1./255,\n",
    "        shear_range=0.2,\n",
    "        zoom_range=0.2,\n",
    "        horizontal_flip=True)\n",
    "\n",
    "#testing augmentation configuration\n",
    "test_datagen = ImageDataGenerator(rescale=1./255,)\n",
    "\n",
    "#generator that will read pictures found in subfolders & will indefinitely generate batches of augmented data\n",
    "train_generator=train_datagen.flow_from_directory('train',\n",
    "target_size=(150,150), #resize image\n",
    "batch_size=batch_size,\n",
    "class_mode='binary')\n",
    "\n",
    "validation_generator=test_datagen.flow_from_directory('validation_ds',\n",
    "target_size=(150,150), #resize image\n",
    "batch_size=batch_size,\n",
    "class_mode='binary')\n",
    "\n",
    "        "
   ]
  },
  {
   "cell_type": "code",
   "execution_count": 11,
   "id": "f7ffa999",
   "metadata": {},
   "outputs": [],
   "source": [
    "import tensorflow as tf\n",
    "from tensorflow import keras\n",
    "from keras import Sequential\n",
    "from keras.layers import Dense,Conv2D,MaxPooling2D,Flatten,BatchNormalization,Dropout"
   ]
  },
  {
   "cell_type": "code",
   "execution_count": 21,
   "id": "67526824",
   "metadata": {},
   "outputs": [],
   "source": [
    "model = Sequential()\n",
    "\n",
    "model.add(Conv2D(32,kernel_size=(3,3),padding='valid',activation='relu',input_shape=(150,150,3)))\n",
    "model.add(BatchNormalization())\n",
    "model.add(MaxPooling2D(pool_size=(2,2),strides=2,padding='valid'))\n",
    "\n",
    "model.add(Conv2D(64,kernel_size=(3,3),padding='valid',activation='relu'))\n",
    "model.add(BatchNormalization())\n",
    "model.add(MaxPooling2D(pool_size=(2,2),strides=2,padding='valid'))\n",
    "\n",
    "model.add(Conv2D(128,kernel_size=(3,3),padding='valid',activation='relu'))\n",
    "model.add(BatchNormalization())\n",
    "model.add(MaxPooling2D(pool_size=(2,2),strides=2,padding='valid'))\n",
    "\n",
    "model.add(Flatten())\n",
    "#3 fully connected layers\n",
    "model.add(Dense(128,activation='relu'))\n",
    "model.add(Dropout(0.1))\n",
    "model.add(Dense(64,activation='relu'))\n",
    "model.add(Dropout(0.1))\n",
    "model.add(Dense(1,activation='sigmoid'))"
   ]
  },
  {
   "cell_type": "code",
   "execution_count": 22,
   "id": "29248b5b",
   "metadata": {},
   "outputs": [],
   "source": [
    "model.compile(optimizer='adam',loss='binary_crossentropy',metrics=['accuracy'])"
   ]
  },
  {
   "cell_type": "code",
   "execution_count": 24,
   "id": "4a59b95b",
   "metadata": {},
   "outputs": [
    {
     "name": "stderr",
     "output_type": "stream",
     "text": [
      "C:\\Users\\admin\\AppData\\Local\\Temp\\ipykernel_6712\\1926926240.py:1: UserWarning: `Model.fit_generator` is deprecated and will be removed in a future version. Please use `Model.fit`, which supports generators.\n",
      "  model.fit_generator(\n"
     ]
    },
    {
     "name": "stdout",
     "output_type": "stream",
     "text": [
      "Epoch 1/25\n",
      "125/125 [==============================] - 145s 1s/step - loss: 0.5339 - accuracy: 0.7300\n",
      "Epoch 2/25\n",
      "125/125 [==============================] - 143s 1s/step - loss: 0.5412 - accuracy: 0.7145\n",
      "Epoch 3/25\n",
      "125/125 [==============================] - 144s 1s/step - loss: 0.5090 - accuracy: 0.7475\n",
      "Epoch 4/25\n",
      "125/125 [==============================] - 143s 1s/step - loss: 0.4763 - accuracy: 0.7595\n",
      "Epoch 5/25\n",
      "125/125 [==============================] - 144s 1s/step - loss: 0.4416 - accuracy: 0.7915\n",
      "Epoch 6/25\n",
      "125/125 [==============================] - 146s 1s/step - loss: 0.4238 - accuracy: 0.7995\n",
      "Epoch 7/25\n",
      "125/125 [==============================] - 160s 1s/step - loss: 0.4092 - accuracy: 0.8055\n",
      "Epoch 8/25\n",
      "125/125 [==============================] - 133s 1s/step - loss: 0.3953 - accuracy: 0.8090\n",
      "Epoch 9/25\n",
      "125/125 [==============================] - 120s 959ms/step - loss: 0.4147 - accuracy: 0.8170\n",
      "Epoch 10/25\n",
      "125/125 [==============================] - 119s 953ms/step - loss: 0.3939 - accuracy: 0.8215\n",
      "Epoch 11/25\n",
      "125/125 [==============================] - 126s 1s/step - loss: 0.3655 - accuracy: 0.8355\n",
      "Epoch 12/25\n",
      "125/125 [==============================] - 138s 1s/step - loss: 0.3518 - accuracy: 0.8390\n",
      "Epoch 13/25\n",
      "125/125 [==============================] - 123s 981ms/step - loss: 0.3369 - accuracy: 0.8480\n",
      "Epoch 14/25\n",
      "125/125 [==============================] - 136s 1s/step - loss: 0.3197 - accuracy: 0.8695\n",
      "Epoch 15/25\n",
      "125/125 [==============================] - 120s 956ms/step - loss: 0.2991 - accuracy: 0.8750\n",
      "Epoch 16/25\n",
      "125/125 [==============================] - 117s 934ms/step - loss: 0.3107 - accuracy: 0.8750\n",
      "Epoch 17/25\n",
      "125/125 [==============================] - 116s 926ms/step - loss: 0.2931 - accuracy: 0.8710\n",
      "Epoch 18/25\n",
      "125/125 [==============================] - 118s 940ms/step - loss: 0.2542 - accuracy: 0.9020\n",
      "Epoch 19/25\n",
      "125/125 [==============================] - 118s 941ms/step - loss: 0.2660 - accuracy: 0.8960\n",
      "Epoch 20/25\n",
      "125/125 [==============================] - 120s 955ms/step - loss: 0.2141 - accuracy: 0.9180\n",
      "Epoch 21/25\n",
      "125/125 [==============================] - 454s 2s/step - loss: 0.2048 - accuracy: 0.9215\n",
      "Epoch 22/25\n",
      "125/125 [==============================] - 129s 1s/step - loss: 0.2105 - accuracy: 0.9160\n",
      "Epoch 23/25\n",
      "125/125 [==============================] - 122s 973ms/step - loss: 0.2244 - accuracy: 0.9060\n",
      "Epoch 24/25\n",
      "125/125 [==============================] - 129s 1s/step - loss: 0.1993 - accuracy: 0.9100\n",
      "Epoch 25/25\n",
      "125/125 [==============================] - 129s 1s/step - loss: 0.1955 - accuracy: 0.9215\n"
     ]
    },
    {
     "data": {
      "text/plain": [
       "<keras.callbacks.History at 0xe41e0cba90>"
      ]
     },
     "execution_count": 24,
     "metadata": {},
     "output_type": "execute_result"
    }
   ],
   "source": [
    "model.fit_generator(\n",
    "    train_generator,\n",
    "    steps_per_epoch=2000//batch_size,\n",
    "    epochs=25,\n",
    "    validation_data=validation_generator,\n",
    "    validation_steps=800//batch_size\n",
    ")\n",
    "#whenever image_generator is used then instead of model.fit, model.fit_generator is called\n",
    "#& only transformed images are used for training"
   ]
  },
  {
   "cell_type": "code",
   "execution_count": null,
   "id": "27b6874b",
   "metadata": {},
   "outputs": [],
   "source": []
  },
  {
   "cell_type": "code",
   "execution_count": null,
   "id": "9e09f00b",
   "metadata": {},
   "outputs": [],
   "source": []
  },
  {
   "cell_type": "code",
   "execution_count": null,
   "id": "371682bd",
   "metadata": {},
   "outputs": [],
   "source": []
  },
  {
   "cell_type": "code",
   "execution_count": null,
   "id": "c5ec62d7",
   "metadata": {},
   "outputs": [],
   "source": []
  },
  {
   "cell_type": "code",
   "execution_count": null,
   "id": "26fdeec3",
   "metadata": {},
   "outputs": [],
   "source": []
  },
  {
   "cell_type": "code",
   "execution_count": null,
   "id": "49ff76bf",
   "metadata": {},
   "outputs": [],
   "source": []
  },
  {
   "cell_type": "code",
   "execution_count": null,
   "id": "01abb101",
   "metadata": {},
   "outputs": [],
   "source": []
  },
  {
   "cell_type": "code",
   "execution_count": null,
   "id": "3c39f66e",
   "metadata": {},
   "outputs": [],
   "source": []
  }
 ],
 "metadata": {
  "kernelspec": {
   "display_name": "Python 3 (ipykernel)",
   "language": "python",
   "name": "python3"
  },
  "language_info": {
   "codemirror_mode": {
    "name": "ipython",
    "version": 3
   },
   "file_extension": ".py",
   "mimetype": "text/x-python",
   "name": "python",
   "nbconvert_exporter": "python",
   "pygments_lexer": "ipython3",
   "version": "3.10.3"
  }
 },
 "nbformat": 4,
 "nbformat_minor": 5
}
