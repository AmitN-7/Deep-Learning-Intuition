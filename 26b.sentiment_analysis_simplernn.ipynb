{
  "nbformat": 4,
  "nbformat_minor": 0,
  "metadata": {
    "colab": {
      "provenance": []
    },
    "kernelspec": {
      "name": "python3",
      "display_name": "Python 3"
    },
    "language_info": {
      "name": "python"
    },
    "accelerator": "GPU",
    "gpuClass": "standard"
  },
  "cells": [
    {
      "cell_type": "code",
      "execution_count": null,
      "metadata": {
        "id": "vR6C9i-fyLvG"
      },
      "outputs": [],
      "source": [
        "docs = ['go india',\n",
        "\t\t'india india',\n",
        "\t\t'hip hip hurray',\n",
        "\t\t'jeetega bhai jeetega india jeetega',\n",
        "\t\t'bharat mata ki jai',\n",
        "\t\t'kohli kohli',\n",
        "\t\t'sachin sachin',\n",
        "\t\t'dhoni dhoni',\n",
        "\t\t'modi ji ki jai',\n",
        "\t\t'inquilab zindabad']"
      ]
    },
    {
      "cell_type": "code",
      "source": [
        "from keras.preprocessing.text import Tokenizer\n",
        "tokenizer = Tokenizer()"
      ],
      "metadata": {
        "id": "xRzvJNh1mRQW"
      },
      "execution_count": null,
      "outputs": []
    },
    {
      "cell_type": "code",
      "source": [
        "tokenizer.fit_on_texts(docs)"
      ],
      "metadata": {
        "id": "2IhkPg6YmRYT"
      },
      "execution_count": null,
      "outputs": []
    },
    {
      "cell_type": "code",
      "source": [
        "len(tokenizer.word_index)"
      ],
      "metadata": {
        "colab": {
          "base_uri": "https://localhost:8080/"
        },
        "id": "dP5g_Tmin4AG",
        "outputId": "4ead1af1-75dc-44f2-f8f9-cd8b9d1df0e1"
      },
      "execution_count": null,
      "outputs": [
        {
          "output_type": "execute_result",
          "data": {
            "text/plain": [
              "17"
            ]
          },
          "metadata": {},
          "execution_count": 4
        }
      ]
    },
    {
      "cell_type": "code",
      "source": [
        "sequences = tokenizer.texts_to_sequences(docs)\n",
        "sequences"
      ],
      "metadata": {
        "colab": {
          "base_uri": "https://localhost:8080/"
        },
        "id": "lOv8NrFFmRcE",
        "outputId": "94d3ca25-470a-40cf-a206-980707b6131c"
      },
      "execution_count": null,
      "outputs": [
        {
          "output_type": "execute_result",
          "data": {
            "text/plain": [
              "[[9, 1],\n",
              " [1, 1],\n",
              " [3, 3, 10],\n",
              " [2, 11, 2, 1, 2],\n",
              " [12, 13, 4, 5],\n",
              " [6, 6],\n",
              " [7, 7],\n",
              " [8, 8],\n",
              " [14, 15, 4, 5],\n",
              " [16, 17]]"
            ]
          },
          "metadata": {},
          "execution_count": 5
        }
      ]
    },
    {
      "cell_type": "code",
      "source": [
        "from keras.utils import pad_sequences\n",
        "sequences = pad_sequences(sequences,padding='post')\n",
        "sequences"
      ],
      "metadata": {
        "colab": {
          "base_uri": "https://localhost:8080/"
        },
        "id": "KG1RqcLnmRkA",
        "outputId": "e3a248a2-39a8-47a6-b2d7-3c2f7df181ee"
      },
      "execution_count": null,
      "outputs": [
        {
          "output_type": "execute_result",
          "data": {
            "text/plain": [
              "array([[ 9,  1,  0,  0,  0],\n",
              "       [ 1,  1,  0,  0,  0],\n",
              "       [ 3,  3, 10,  0,  0],\n",
              "       [ 2, 11,  2,  1,  2],\n",
              "       [12, 13,  4,  5,  0],\n",
              "       [ 6,  6,  0,  0,  0],\n",
              "       [ 7,  7,  0,  0,  0],\n",
              "       [ 8,  8,  0,  0,  0],\n",
              "       [14, 15,  4,  5,  0],\n",
              "       [16, 17,  0,  0,  0]], dtype=int32)"
            ]
          },
          "metadata": {},
          "execution_count": 6
        }
      ]
    },
    {
      "cell_type": "code",
      "source": [
        "from keras import Sequential\n",
        "from keras.layers import Dense,SimpleRNN,Embedding,Flatten"
      ],
      "metadata": {
        "id": "Egi97ug88xKW"
      },
      "execution_count": null,
      "outputs": []
    },
    {
      "cell_type": "code",
      "source": [
        "model = Sequential()\n",
        "model.add(Embedding(17,output_dim=2,input_length=5))\n",
        "\n",
        "model.summary()"
      ],
      "metadata": {
        "colab": {
          "base_uri": "https://localhost:8080/"
        },
        "id": "ETWEOn4wmRzd",
        "outputId": "5bdfd5de-dc7f-48c2-c414-0ef6c3194421"
      },
      "execution_count": null,
      "outputs": [
        {
          "output_type": "stream",
          "name": "stdout",
          "text": [
            "Model: \"sequential_1\"\n",
            "_________________________________________________________________\n",
            " Layer (type)                Output Shape              Param #   \n",
            "=================================================================\n",
            " embedding (Embedding)       (None, 5, 2)              34        \n",
            "                                                                 \n",
            "=================================================================\n",
            "Total params: 34\n",
            "Trainable params: 34\n",
            "Non-trainable params: 0\n",
            "_________________________________________________________________\n"
          ]
        }
      ]
    },
    {
      "cell_type": "code",
      "source": [
        "model.compile('adam','accuracy')"
      ],
      "metadata": {
        "id": "R68ghDfNmSAC"
      },
      "execution_count": null,
      "outputs": []
    },
    {
      "cell_type": "code",
      "source": [
        "pred = model.predict(sequences)\n",
        "print(pred)"
      ],
      "metadata": {
        "colab": {
          "base_uri": "https://localhost:8080/"
        },
        "id": "ooYWO2NwoKoQ",
        "outputId": "a3291f38-4ce2-4a5d-e542-ea587de49ceb"
      },
      "execution_count": null,
      "outputs": [
        {
          "output_type": "stream",
          "name": "stdout",
          "text": [
            "1/1 [==============================] - 0s 169ms/step\n",
            "[[[-0.02205638  0.02380541]\n",
            "  [ 0.00023084  0.03713353]\n",
            "  [ 0.00709251 -0.00840636]\n",
            "  [ 0.00709251 -0.00840636]\n",
            "  [ 0.00709251 -0.00840636]]\n",
            "\n",
            " [[ 0.00023084  0.03713353]\n",
            "  [ 0.00023084  0.03713353]\n",
            "  [ 0.00709251 -0.00840636]\n",
            "  [ 0.00709251 -0.00840636]\n",
            "  [ 0.00709251 -0.00840636]]\n",
            "\n",
            " [[ 0.00622096  0.00933592]\n",
            "  [ 0.00622096  0.00933592]\n",
            "  [-0.01898973  0.04069928]\n",
            "  [ 0.00709251 -0.00840636]\n",
            "  [ 0.00709251 -0.00840636]]\n",
            "\n",
            " [[-0.00183875  0.02140727]\n",
            "  [-0.026925    0.0417912 ]\n",
            "  [-0.00183875  0.02140727]\n",
            "  [ 0.00023084  0.03713353]\n",
            "  [-0.00183875  0.02140727]]\n",
            "\n",
            " [[-0.03640307  0.00539074]\n",
            "  [-0.00378151  0.00976437]\n",
            "  [-0.00211514  0.02488976]\n",
            "  [-0.03469858 -0.01373202]\n",
            "  [ 0.00709251 -0.00840636]]\n",
            "\n",
            " [[ 0.00561827 -0.02003602]\n",
            "  [ 0.00561827 -0.02003602]\n",
            "  [ 0.00709251 -0.00840636]\n",
            "  [ 0.00709251 -0.00840636]\n",
            "  [ 0.00709251 -0.00840636]]\n",
            "\n",
            " [[-0.03367481 -0.03494638]\n",
            "  [-0.03367481 -0.03494638]\n",
            "  [ 0.00709251 -0.00840636]\n",
            "  [ 0.00709251 -0.00840636]\n",
            "  [ 0.00709251 -0.00840636]]\n",
            "\n",
            " [[ 0.0371214  -0.03609595]\n",
            "  [ 0.0371214  -0.03609595]\n",
            "  [ 0.00709251 -0.00840636]\n",
            "  [ 0.00709251 -0.00840636]\n",
            "  [ 0.00709251 -0.00840636]]\n",
            "\n",
            " [[-0.02426977 -0.03857272]\n",
            "  [-0.01154655  0.02231747]\n",
            "  [-0.00211514  0.02488976]\n",
            "  [-0.03469858 -0.01373202]\n",
            "  [ 0.00709251 -0.00840636]]\n",
            "\n",
            " [[ 0.03499356 -0.03532019]\n",
            "  [ 0.          0.        ]\n",
            "  [ 0.00709251 -0.00840636]\n",
            "  [ 0.00709251 -0.00840636]\n",
            "  [ 0.00709251 -0.00840636]]]\n"
          ]
        }
      ]
    },
    {
      "cell_type": "code",
      "source": [
        "from keras.datasets import imdb\n",
        "from keras.preprocessing.text import Tokenizer\n",
        "from keras.utils import pad_sequences\n",
        "from keras import Sequential\n",
        "from keras.layers import Dense,SimpleRNN,Embedding,Flatten"
      ],
      "metadata": {
        "id": "yrM0IXVamPLn"
      },
      "execution_count": null,
      "outputs": []
    },
    {
      "cell_type": "code",
      "source": [
        "(X_train,y_train),(X_test,y_test) = imdb.load_data()"
      ],
      "metadata": {
        "id": "4aH4HVjcyq1f",
        "colab": {
          "base_uri": "https://localhost:8080/"
        },
        "outputId": "83051aca-bd85-4538-d7e2-7939851ae764"
      },
      "execution_count": null,
      "outputs": [
        {
          "output_type": "stream",
          "name": "stdout",
          "text": [
            "Downloading data from https://storage.googleapis.com/tensorflow/tf-keras-datasets/imdb.npz\n",
            "17464789/17464789 [==============================] - 2s 0us/step\n"
          ]
        }
      ]
    },
    {
      "cell_type": "code",
      "source": [
        "X_train = pad_sequences(X_train,padding='post')\n",
        "X_test = pad_sequences(X_test,padding='post')"
      ],
      "metadata": {
        "id": "cu2UOZGUzAEF"
      },
      "execution_count": null,
      "outputs": []
    },
    {
      "cell_type": "code",
      "source": [
        "X_train.shape"
      ],
      "metadata": {
        "colab": {
          "base_uri": "https://localhost:8080/"
        },
        "id": "Dk8Pp_sk9YzT",
        "outputId": "71160cf5-9918-43a5-f699-22f396cd6faf"
      },
      "execution_count": null,
      "outputs": [
        {
          "output_type": "execute_result",
          "data": {
            "text/plain": [
              "(25000, 50)"
            ]
          },
          "metadata": {},
          "execution_count": 22
        }
      ]
    },
    {
      "cell_type": "code",
      "source": [
        "model = Sequential()\n",
        "model.add(Embedding(25000, 2))\n",
        "model.add(SimpleRNN(32,return_sequences=False))\n",
        "model.add(Dense(1, activation='sigmoid'))\n",
        "\n",
        "model.summary()"
      ],
      "metadata": {
        "colab": {
          "base_uri": "https://localhost:8080/"
        },
        "id": "WWXhm8vP_DO-",
        "outputId": "20717650-c8a5-4bbc-9731-0353b321d081"
      },
      "execution_count": null,
      "outputs": [
        {
          "output_type": "stream",
          "name": "stdout",
          "text": [
            "Model: \"sequential_5\"\n",
            "_________________________________________________________________\n",
            " Layer (type)                Output Shape              Param #   \n",
            "=================================================================\n",
            " embedding_4 (Embedding)     (None, None, 2)           50000     \n",
            "                                                                 \n",
            " simple_rnn_1 (SimpleRNN)    (None, 32)                1120      \n",
            "                                                                 \n",
            " dense_1 (Dense)             (None, 1)                 33        \n",
            "                                                                 \n",
            "=================================================================\n",
            "Total params: 51,153\n",
            "Trainable params: 51,153\n",
            "Non-trainable params: 0\n",
            "_________________________________________________________________\n"
          ]
        }
      ]
    },
    {
      "cell_type": "code",
      "source": [
        "model.compile(optimizer='adam', loss='binary_crossentropy', metrics=['acc'])\n",
        "history = model.fit(X_train, y_train,epochs=5,validation_data=(X_test,y_test))"
      ],
      "metadata": {
        "colab": {
          "base_uri": "https://localhost:8080/"
        },
        "id": "AGCAZ7Rm_fqH",
        "outputId": "ecd0630d-9949-4d71-9267-769243b0c39f"
      },
      "execution_count": 26,
      "outputs": [
        {
          "output_type": "stream",
          "name": "stdout",
          "text": [
            "Epoch 1/5\n",
            "782/782 [==============================] - 43s 53ms/step - loss: 0.1294 - acc: 0.9547 - val_loss: 0.6628 - val_acc: 0.7886\n",
            "Epoch 2/5\n",
            "782/782 [==============================] - 41s 52ms/step - loss: 0.1013 - acc: 0.9661 - val_loss: 0.8843 - val_acc: 0.7676\n",
            "Epoch 3/5\n",
            "782/782 [==============================] - 41s 53ms/step - loss: 0.0794 - acc: 0.9747 - val_loss: 0.8563 - val_acc: 0.7756\n",
            "Epoch 4/5\n",
            "782/782 [==============================] - 40s 51ms/step - loss: 0.0696 - acc: 0.9768 - val_loss: 0.8911 - val_acc: 0.7742\n",
            "Epoch 5/5\n",
            "782/782 [==============================] - 40s 52ms/step - loss: 0.0557 - acc: 0.9823 - val_loss: 1.0561 - val_acc: 0.7678\n"
          ]
        }
      ]
    },
    {
      "cell_type": "code",
      "source": [],
      "metadata": {
        "id": "jAQETwiZikEY"
      },
      "execution_count": null,
      "outputs": []
    }
  ]
}